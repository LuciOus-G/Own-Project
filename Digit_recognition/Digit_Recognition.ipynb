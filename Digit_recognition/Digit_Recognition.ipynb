{
  "nbformat": 4,
  "nbformat_minor": 0,
  "metadata": {
    "colab": {
      "name": "Digit_Recognition.ipynb",
      "provenance": [],
      "collapsed_sections": [],
      "authorship_tag": "ABX9TyOytpyLyirJfvAtQWeqzx2c",
      "include_colab_link": true
    },
    "kernelspec": {
      "name": "python3",
      "display_name": "Python 3"
    },
    "accelerator": "GPU"
  },
  "cells": [
    {
      "cell_type": "markdown",
      "metadata": {
        "id": "view-in-github",
        "colab_type": "text"
      },
      "source": [
        "<a href=\"https://colab.research.google.com/github/LuciOus-G/Own-Project/blob/Portfolio/Digit_recognition/Digit_Recognition.ipynb\" target=\"_parent\"><img src=\"https://colab.research.google.com/assets/colab-badge.svg\" alt=\"Open In Colab\"/></a>"
      ]
    },
    {
      "cell_type": "markdown",
      "metadata": {
        "id": "YV43_GbFeEOz"
      },
      "source": [
        "**first install and import the library that we needed**"
      ]
    },
    {
      "cell_type": "code",
      "metadata": {
        "id": "jN01bd5NOYWa",
        "outputId": "fbe882c2-252e-4042-ca3e-7f3e384c166a",
        "colab": {
          "base_uri": "https://localhost:8080/",
          "height": 54
        }
      },
      "source": [
        "def increase_font():\n",
        "  from IPython.display import Javascript\n",
        "  display(Javascript('''\n",
        "  for (rule of document.styleSheets[0].cssRules){\n",
        "    if (rule.selectorText=='body') {\n",
        "      rule.style.fontSize = '30px'\n",
        "      break\n",
        "    }\n",
        "  }\n",
        "  '''))\n",
        "\n",
        "increase_font()\n",
        "print(\"Hello\")"
      ],
      "execution_count": null,
      "outputs": [
        {
          "output_type": "display_data",
          "data": {
            "application/javascript": [
              "\n",
              "  for (rule of document.styleSheets[0].cssRules){\n",
              "    if (rule.selectorText=='body') {\n",
              "      rule.style.fontSize = '30px'\n",
              "      break\n",
              "    }\n",
              "  }\n",
              "  "
            ],
            "text/plain": [
              "<IPython.core.display.Javascript object>"
            ]
          },
          "metadata": {
            "tags": []
          }
        },
        {
          "output_type": "stream",
          "text": [
            "Hello\n"
          ],
          "name": "stdout"
        }
      ]
    },
    {
      "cell_type": "code",
      "metadata": {
        "id": "MvPMZg2-HFg-"
      },
      "source": [
        "import pandas as pd\n",
        "import numpy as np\n",
        "import cv2\n",
        "from tensorflow.keras.datasets import mnist\n",
        "from tensorflow.keras.models import Sequential\n",
        "from tensorflow.keras.layers import Dense, MaxPool2D, Flatten, Dropout, Conv2D\n",
        "import matplotlib.pyplot as plt\n",
        "from tensorflow.keras.utils import normalize"
      ],
      "execution_count": null,
      "outputs": []
    },
    {
      "cell_type": "markdown",
      "metadata": {
        "id": "aCR5SJVXeQxI"
      },
      "source": [
        "**next we're gonna preprocessing the datasets**"
      ]
    },
    {
      "cell_type": "code",
      "metadata": {
        "id": "U0C-o-itH5Q3",
        "outputId": "3083cd15-a823-46b1-929a-8074e0d5f585",
        "colab": {
          "base_uri": "https://localhost:8080/",
          "height": 72
        }
      },
      "source": [
        "(x_train, y_train), (x_test, y_test) = mnist.load_data()\n",
        "\n",
        "x_train = normalize(x_train, axis=1)\n",
        "x_test = normalize(x_test, axis=1)\n",
        "\n",
        "print (x_train[10].shape)"
      ],
      "execution_count": null,
      "outputs": [
        {
          "output_type": "stream",
          "text": [
            "Downloading data from https://storage.googleapis.com/tensorflow/tf-keras-datasets/mnist.npz\n",
            "11493376/11490434 [==============================] - 0s 0us/step\n",
            "(28, 28)\n"
          ],
          "name": "stdout"
        }
      ]
    },
    {
      "cell_type": "markdown",
      "metadata": {
        "id": "voJhw6sQebU9"
      },
      "source": [
        "**and then we make an our models and compile it**"
      ]
    },
    {
      "cell_type": "code",
      "metadata": {
        "id": "6lqz_GlYKidd"
      },
      "source": [
        "model = Sequential()\n",
        "model.add(Flatten())\n",
        "model.add(Dense( 128, activation='relu'))\n",
        "model.add(Dense( 64, activation='relu'))\n",
        "model.add(Dense( 10, activation='softmax'))"
      ],
      "execution_count": null,
      "outputs": []
    },
    {
      "cell_type": "code",
      "metadata": {
        "id": "v2U80tsRMafZ"
      },
      "source": [
        "model.compile(\n",
        "    optimizer='adam',\n",
        "    loss = 'sparse_categorical_crossentropy',\n",
        "    metrics= ['accuracy']\n",
        ")"
      ],
      "execution_count": null,
      "outputs": []
    },
    {
      "cell_type": "markdown",
      "metadata": {
        "id": "6WUFBQGYeh0S"
      },
      "source": [
        "and we have to train our models with our data"
      ]
    },
    {
      "cell_type": "code",
      "metadata": {
        "id": "9la8XDnHM1iL",
        "outputId": "04d4f380-cec6-489a-af82-57239f3ce32b",
        "colab": {
          "base_uri": "https://localhost:8080/",
          "height": 1000
        }
      },
      "source": [
        "model.fit(\n",
        "    x_train,\n",
        "    y_train,\n",
        "    epochs = 100,\n",
        "    batch_size = 256,\n",
        "    shuffle = True,\n",
        ")"
      ],
      "execution_count": null,
      "outputs": [
        {
          "output_type": "stream",
          "text": [
            "Epoch 1/100\n",
            "235/235 [==============================] - 1s 3ms/step - loss: 0.5156 - accuracy: 0.8623\n",
            "Epoch 2/100\n",
            "235/235 [==============================] - 1s 3ms/step - loss: 0.2010 - accuracy: 0.9422\n",
            "Epoch 3/100\n",
            "235/235 [==============================] - 1s 3ms/step - loss: 0.1470 - accuracy: 0.9574\n",
            "Epoch 4/100\n",
            "235/235 [==============================] - 1s 3ms/step - loss: 0.1153 - accuracy: 0.9664\n",
            "Epoch 5/100\n",
            "235/235 [==============================] - 1s 2ms/step - loss: 0.0927 - accuracy: 0.9729\n",
            "Epoch 6/100\n",
            "235/235 [==============================] - 1s 3ms/step - loss: 0.0750 - accuracy: 0.9781\n",
            "Epoch 7/100\n",
            "235/235 [==============================] - 1s 3ms/step - loss: 0.0642 - accuracy: 0.9812\n",
            "Epoch 8/100\n",
            "235/235 [==============================] - 1s 3ms/step - loss: 0.0538 - accuracy: 0.9845\n",
            "Epoch 9/100\n",
            "235/235 [==============================] - 1s 2ms/step - loss: 0.0457 - accuracy: 0.9869\n",
            "Epoch 10/100\n",
            "235/235 [==============================] - 1s 3ms/step - loss: 0.0398 - accuracy: 0.9883\n",
            "Epoch 11/100\n",
            "235/235 [==============================] - 1s 3ms/step - loss: 0.0333 - accuracy: 0.9910\n",
            "Epoch 12/100\n",
            "235/235 [==============================] - 1s 2ms/step - loss: 0.0285 - accuracy: 0.9923\n",
            "Epoch 13/100\n",
            "235/235 [==============================] - 1s 3ms/step - loss: 0.0251 - accuracy: 0.9931\n",
            "Epoch 14/100\n",
            "235/235 [==============================] - 1s 3ms/step - loss: 0.0213 - accuracy: 0.9944\n",
            "Epoch 15/100\n",
            "235/235 [==============================] - 1s 2ms/step - loss: 0.0173 - accuracy: 0.9956\n",
            "Epoch 16/100\n",
            "235/235 [==============================] - 1s 2ms/step - loss: 0.0146 - accuracy: 0.9968\n",
            "Epoch 17/100\n",
            "235/235 [==============================] - 1s 3ms/step - loss: 0.0123 - accuracy: 0.9973\n",
            "Epoch 18/100\n",
            "235/235 [==============================] - 1s 3ms/step - loss: 0.0101 - accuracy: 0.9980\n",
            "Epoch 19/100\n",
            "235/235 [==============================] - 1s 3ms/step - loss: 0.0080 - accuracy: 0.9987\n",
            "Epoch 20/100\n",
            "235/235 [==============================] - 1s 3ms/step - loss: 0.0072 - accuracy: 0.9988\n",
            "Epoch 21/100\n",
            "235/235 [==============================] - 1s 2ms/step - loss: 0.0063 - accuracy: 0.9990\n",
            "Epoch 22/100\n",
            "235/235 [==============================] - 1s 2ms/step - loss: 0.0057 - accuracy: 0.9989\n",
            "Epoch 23/100\n",
            "235/235 [==============================] - 1s 2ms/step - loss: 0.0039 - accuracy: 0.9997\n",
            "Epoch 24/100\n",
            "235/235 [==============================] - 1s 2ms/step - loss: 0.0031 - accuracy: 0.9997\n",
            "Epoch 25/100\n",
            "235/235 [==============================] - 1s 3ms/step - loss: 0.0023 - accuracy: 0.9999\n",
            "Epoch 26/100\n",
            "235/235 [==============================] - 1s 2ms/step - loss: 0.0020 - accuracy: 1.0000\n",
            "Epoch 27/100\n",
            "235/235 [==============================] - 1s 2ms/step - loss: 0.0020 - accuracy: 0.9999\n",
            "Epoch 28/100\n",
            "235/235 [==============================] - 1s 3ms/step - loss: 0.0017 - accuracy: 0.9999\n",
            "Epoch 29/100\n",
            "235/235 [==============================] - 1s 3ms/step - loss: 0.0029 - accuracy: 0.9994\n",
            "Epoch 30/100\n",
            "235/235 [==============================] - 1s 2ms/step - loss: 0.0185 - accuracy: 0.9937\n",
            "Epoch 31/100\n",
            "235/235 [==============================] - 1s 2ms/step - loss: 0.0044 - accuracy: 0.9988\n",
            "Epoch 32/100\n",
            "235/235 [==============================] - 1s 3ms/step - loss: 0.0016 - accuracy: 0.9998\n",
            "Epoch 33/100\n",
            "235/235 [==============================] - 1s 2ms/step - loss: 6.6370e-04 - accuracy: 1.0000\n",
            "Epoch 34/100\n",
            "235/235 [==============================] - 1s 2ms/step - loss: 4.9266e-04 - accuracy: 1.0000\n",
            "Epoch 35/100\n",
            "235/235 [==============================] - 1s 3ms/step - loss: 3.8607e-04 - accuracy: 1.0000\n",
            "Epoch 36/100\n",
            "235/235 [==============================] - 1s 3ms/step - loss: 3.4080e-04 - accuracy: 1.0000\n",
            "Epoch 37/100\n",
            "235/235 [==============================] - 1s 3ms/step - loss: 3.0542e-04 - accuracy: 1.0000\n",
            "Epoch 38/100\n",
            "235/235 [==============================] - 1s 2ms/step - loss: 2.7513e-04 - accuracy: 1.0000\n",
            "Epoch 39/100\n",
            "235/235 [==============================] - 1s 2ms/step - loss: 2.4732e-04 - accuracy: 1.0000\n",
            "Epoch 40/100\n",
            "235/235 [==============================] - 1s 3ms/step - loss: 2.3033e-04 - accuracy: 1.0000\n",
            "Epoch 41/100\n",
            "235/235 [==============================] - 1s 3ms/step - loss: 2.0171e-04 - accuracy: 1.0000\n",
            "Epoch 42/100\n",
            "235/235 [==============================] - 1s 3ms/step - loss: 1.8563e-04 - accuracy: 1.0000\n",
            "Epoch 43/100\n",
            "235/235 [==============================] - 1s 3ms/step - loss: 1.6886e-04 - accuracy: 1.0000\n",
            "Epoch 44/100\n",
            "235/235 [==============================] - 1s 2ms/step - loss: 1.5451e-04 - accuracy: 1.0000\n",
            "Epoch 45/100\n",
            "235/235 [==============================] - 1s 2ms/step - loss: 1.3612e-04 - accuracy: 1.0000\n",
            "Epoch 46/100\n",
            "235/235 [==============================] - 1s 2ms/step - loss: 1.2472e-04 - accuracy: 1.0000\n",
            "Epoch 47/100\n",
            "235/235 [==============================] - 1s 3ms/step - loss: 1.1238e-04 - accuracy: 1.0000\n",
            "Epoch 48/100\n",
            "235/235 [==============================] - 1s 3ms/step - loss: 1.0101e-04 - accuracy: 1.0000\n",
            "Epoch 49/100\n",
            "235/235 [==============================] - 1s 3ms/step - loss: 9.3022e-05 - accuracy: 1.0000\n",
            "Epoch 50/100\n",
            "235/235 [==============================] - 1s 3ms/step - loss: 0.0174 - accuracy: 0.9951\n",
            "Epoch 51/100\n",
            "235/235 [==============================] - 1s 3ms/step - loss: 0.0182 - accuracy: 0.9935\n",
            "Epoch 52/100\n",
            "235/235 [==============================] - 1s 2ms/step - loss: 0.0035 - accuracy: 0.9990\n",
            "Epoch 53/100\n",
            "235/235 [==============================] - 1s 2ms/step - loss: 6.7103e-04 - accuracy: 1.0000\n",
            "Epoch 54/100\n",
            "235/235 [==============================] - 1s 2ms/step - loss: 2.7300e-04 - accuracy: 1.0000\n",
            "Epoch 55/100\n",
            "235/235 [==============================] - 1s 3ms/step - loss: 2.0170e-04 - accuracy: 1.0000\n",
            "Epoch 56/100\n",
            "235/235 [==============================] - 1s 2ms/step - loss: 1.7177e-04 - accuracy: 1.0000\n",
            "Epoch 57/100\n",
            "235/235 [==============================] - 1s 2ms/step - loss: 1.4989e-04 - accuracy: 1.0000\n",
            "Epoch 58/100\n",
            "235/235 [==============================] - 1s 2ms/step - loss: 1.3202e-04 - accuracy: 1.0000\n",
            "Epoch 59/100\n",
            "235/235 [==============================] - 1s 2ms/step - loss: 1.1813e-04 - accuracy: 1.0000\n",
            "Epoch 60/100\n",
            "235/235 [==============================] - 1s 3ms/step - loss: 1.0546e-04 - accuracy: 1.0000\n",
            "Epoch 61/100\n",
            "235/235 [==============================] - 1s 3ms/step - loss: 9.5119e-05 - accuracy: 1.0000\n",
            "Epoch 62/100\n",
            "235/235 [==============================] - 1s 2ms/step - loss: 8.6379e-05 - accuracy: 1.0000\n",
            "Epoch 63/100\n",
            "235/235 [==============================] - 1s 2ms/step - loss: 7.8020e-05 - accuracy: 1.0000\n",
            "Epoch 64/100\n",
            "235/235 [==============================] - 1s 2ms/step - loss: 7.1732e-05 - accuracy: 1.0000\n",
            "Epoch 65/100\n",
            "235/235 [==============================] - 1s 2ms/step - loss: 6.5310e-05 - accuracy: 1.0000\n",
            "Epoch 66/100\n",
            "235/235 [==============================] - 1s 3ms/step - loss: 5.9923e-05 - accuracy: 1.0000\n",
            "Epoch 67/100\n",
            "235/235 [==============================] - 1s 3ms/step - loss: 5.4889e-05 - accuracy: 1.0000\n",
            "Epoch 68/100\n",
            "235/235 [==============================] - 1s 2ms/step - loss: 5.0445e-05 - accuracy: 1.0000\n",
            "Epoch 69/100\n",
            "235/235 [==============================] - 1s 2ms/step - loss: 4.5341e-05 - accuracy: 1.0000\n",
            "Epoch 70/100\n",
            "235/235 [==============================] - 1s 2ms/step - loss: 4.1801e-05 - accuracy: 1.0000\n",
            "Epoch 71/100\n",
            "235/235 [==============================] - 1s 2ms/step - loss: 3.8081e-05 - accuracy: 1.0000\n",
            "Epoch 72/100\n",
            "235/235 [==============================] - 1s 2ms/step - loss: 3.4856e-05 - accuracy: 1.0000\n",
            "Epoch 73/100\n",
            "235/235 [==============================] - 1s 3ms/step - loss: 3.1755e-05 - accuracy: 1.0000\n",
            "Epoch 74/100\n",
            "235/235 [==============================] - 1s 2ms/step - loss: 2.9048e-05 - accuracy: 1.0000\n",
            "Epoch 75/100\n",
            "235/235 [==============================] - 1s 2ms/step - loss: 2.6650e-05 - accuracy: 1.0000\n",
            "Epoch 76/100\n",
            "235/235 [==============================] - 1s 3ms/step - loss: 2.3882e-05 - accuracy: 1.0000\n",
            "Epoch 77/100\n",
            "235/235 [==============================] - 1s 2ms/step - loss: 2.2348e-05 - accuracy: 1.0000\n",
            "Epoch 78/100\n",
            "235/235 [==============================] - 1s 3ms/step - loss: 1.9985e-05 - accuracy: 1.0000\n",
            "Epoch 79/100\n",
            "235/235 [==============================] - 1s 3ms/step - loss: 1.7973e-05 - accuracy: 1.0000\n",
            "Epoch 80/100\n",
            "235/235 [==============================] - 1s 3ms/step - loss: 1.6480e-05 - accuracy: 1.0000\n",
            "Epoch 81/100\n",
            "235/235 [==============================] - 1s 3ms/step - loss: 1.4492e-05 - accuracy: 1.0000\n",
            "Epoch 82/100\n",
            "235/235 [==============================] - 1s 2ms/step - loss: 1.3901e-05 - accuracy: 1.0000\n",
            "Epoch 83/100\n",
            "235/235 [==============================] - 1s 2ms/step - loss: 1.1865e-05 - accuracy: 1.0000\n",
            "Epoch 84/100\n",
            "235/235 [==============================] - 1s 2ms/step - loss: 1.0717e-05 - accuracy: 1.0000\n",
            "Epoch 85/100\n",
            "235/235 [==============================] - 1s 3ms/step - loss: 9.7389e-06 - accuracy: 1.0000\n",
            "Epoch 86/100\n",
            "235/235 [==============================] - 1s 3ms/step - loss: 8.4387e-06 - accuracy: 1.0000\n",
            "Epoch 87/100\n",
            "235/235 [==============================] - 1s 2ms/step - loss: 0.0215 - accuracy: 0.9945\n",
            "Epoch 88/100\n",
            "235/235 [==============================] - 1s 2ms/step - loss: 0.0128 - accuracy: 0.9958\n",
            "Epoch 89/100\n",
            "235/235 [==============================] - 1s 3ms/step - loss: 0.0037 - accuracy: 0.9987\n",
            "Epoch 90/100\n",
            "235/235 [==============================] - 1s 2ms/step - loss: 5.2395e-04 - accuracy: 0.9999\n",
            "Epoch 91/100\n",
            "235/235 [==============================] - 1s 2ms/step - loss: 1.2976e-04 - accuracy: 1.0000\n",
            "Epoch 92/100\n",
            "235/235 [==============================] - 1s 3ms/step - loss: 8.6809e-05 - accuracy: 1.0000\n",
            "Epoch 93/100\n",
            "235/235 [==============================] - 1s 3ms/step - loss: 7.2749e-05 - accuracy: 1.0000\n",
            "Epoch 94/100\n",
            "235/235 [==============================] - 1s 3ms/step - loss: 6.3270e-05 - accuracy: 1.0000\n",
            "Epoch 95/100\n",
            "235/235 [==============================] - 1s 2ms/step - loss: 5.5815e-05 - accuracy: 1.0000\n",
            "Epoch 96/100\n",
            "235/235 [==============================] - 1s 2ms/step - loss: 5.0136e-05 - accuracy: 1.0000\n",
            "Epoch 97/100\n",
            "235/235 [==============================] - 1s 2ms/step - loss: 4.5121e-05 - accuracy: 1.0000\n",
            "Epoch 98/100\n",
            "235/235 [==============================] - 1s 2ms/step - loss: 4.0593e-05 - accuracy: 1.0000\n",
            "Epoch 99/100\n",
            "235/235 [==============================] - 1s 2ms/step - loss: 3.7053e-05 - accuracy: 1.0000\n",
            "Epoch 100/100\n",
            "235/235 [==============================] - 1s 2ms/step - loss: 3.3673e-05 - accuracy: 1.0000\n"
          ],
          "name": "stdout"
        },
        {
          "output_type": "execute_result",
          "data": {
            "text/plain": [
              "<tensorflow.python.keras.callbacks.History at 0x7fb0c87a27f0>"
            ]
          },
          "metadata": {
            "tags": []
          },
          "execution_count": 8
        }
      ]
    },
    {
      "cell_type": "code",
      "metadata": {
        "id": "q3yT8b5YMMEB",
        "outputId": "8308c826-0dd6-4a41-dd5a-1f44a48a0a2b",
        "colab": {
          "base_uri": "https://localhost:8080/",
          "height": 308
        }
      },
      "source": [
        "model.summary()"
      ],
      "execution_count": null,
      "outputs": [
        {
          "output_type": "stream",
          "text": [
            "Model: \"sequential\"\n",
            "_________________________________________________________________\n",
            "Layer (type)                 Output Shape              Param #   \n",
            "=================================================================\n",
            "flatten (Flatten)            (None, 784)               0         \n",
            "_________________________________________________________________\n",
            "dense (Dense)                (None, 128)               100480    \n",
            "_________________________________________________________________\n",
            "dense_1 (Dense)              (None, 64)                8256      \n",
            "_________________________________________________________________\n",
            "dense_2 (Dense)              (None, 10)                650       \n",
            "=================================================================\n",
            "Total params: 109,386\n",
            "Trainable params: 109,386\n",
            "Non-trainable params: 0\n",
            "_________________________________________________________________\n"
          ],
          "name": "stdout"
        }
      ]
    },
    {
      "cell_type": "markdown",
      "metadata": {
        "id": "dR2oc1LajOMB"
      },
      "source": [
        "**okay this literally it's done, but when we just print the predict, that's gonna print the all of probability from the x_test datasets**"
      ]
    },
    {
      "cell_type": "code",
      "metadata": {
        "id": "KnBSMONsRSxK",
        "outputId": "d6e13463-b3df-4a28-c453-9936cd43c179",
        "colab": {
          "base_uri": "https://localhost:8080/",
          "height": 290
        }
      },
      "source": [
        "predict = model.predict([x_test])\n",
        "print (predict)"
      ],
      "execution_count": null,
      "outputs": [
        {
          "output_type": "stream",
          "text": [
            "WARNING:tensorflow:Layers in a Sequential model should only have a single input tensor, but we receive a <class 'tuple'> input: (<tf.Tensor 'IteratorGetNext:0' shape=(None, 28, 28) dtype=float32>,)\n",
            "Consider rewriting this model with the Functional API.\n",
            "[[3.27931392e-21 9.88059580e-23 2.07487156e-17 ... 1.00000000e+00\n",
            "  1.67804086e-24 1.88185755e-15]\n",
            " [6.62413010e-25 1.15097766e-11 1.00000000e+00 ... 1.05088796e-25\n",
            "  1.54462294e-23 0.00000000e+00]\n",
            " [5.13456804e-19 1.00000000e+00 2.26027508e-12 ... 5.62515146e-10\n",
            "  4.30640995e-10 2.49685680e-20]\n",
            " ...\n",
            " [9.36764673e-24 1.79608679e-21 2.27444919e-25 ... 1.71367152e-13\n",
            "  2.53715082e-15 1.40911302e-11]\n",
            " [1.08694885e-14 2.84514645e-18 2.84599051e-20 ... 5.35112641e-15\n",
            "  1.94281502e-09 3.42304543e-21]\n",
            " [2.66509738e-21 7.42554693e-27 3.44946754e-23 ... 7.98338936e-28\n",
            "  1.46897514e-27 5.29005928e-36]]\n"
          ],
          "name": "stdout"
        }
      ]
    },
    {
      "cell_type": "markdown",
      "metadata": {
        "id": "xPV6Zeg4kO3B"
      },
      "source": [
        "so we're gonna use np.argmax to find the maximum of the value from prediction,"
      ]
    },
    {
      "cell_type": "code",
      "metadata": {
        "id": "1SGKQsO9hnuF",
        "outputId": "b50a0426-d486-497f-b9d4-4c38ba4b60be",
        "colab": {
          "base_uri": "https://localhost:8080/",
          "height": 1000
        }
      },
      "source": [
        "\"\"\"\n",
        "  the code is simply actualy just like this\n",
        "    #print (np.argmax(predict[10]))\n",
        "    or\n",
        "    #predict = np.argmax(predict[10])\n",
        "    #print (predict)\n",
        "\n",
        "  i just make a looping and random number for giving a different of prediction every we run the cell\n",
        "  \n",
        "\"\"\"\n",
        "\n",
        "for ran in range(10):\n",
        "  random = np.random.randint(len(x_test))\n",
        "  increase_font()\n",
        "  print ('The Image Below is ' + str(np.argmax(predict[random])))\n",
        "  plt.imshow(x_test[random])\n",
        "  plt.show()"
      ],
      "execution_count": null,
      "outputs": [
        {
          "output_type": "display_data",
          "data": {
            "application/javascript": [
              "\n",
              "  for (rule of document.styleSheets[0].cssRules){\n",
              "    if (rule.selectorText=='body') {\n",
              "      rule.style.fontSize = '30px'\n",
              "      break\n",
              "    }\n",
              "  }\n",
              "  "
            ],
            "text/plain": [
              "<IPython.core.display.Javascript object>"
            ]
          },
          "metadata": {
            "tags": []
          }
        },
        {
          "output_type": "stream",
          "text": [
            "The Image Below is 8\n"
          ],
          "name": "stdout"
        },
        {
          "output_type": "display_data",
          "data": {
            "image/png": "[encoded data removed]",
            "text/plain": [
              "<Figure size 432x288 with 1 Axes>"
            ]
          },
          "metadata": {
            "tags": [],
            "needs_background": "light"
          }
        },
        {
          "output_type": "display_data",
          "data": {
            "application/javascript": [
              "\n",
              "  for (rule of document.styleSheets[0].cssRules){\n",
              "    if (rule.selectorText=='body') {\n",
              "      rule.style.fontSize = '30px'\n",
              "      break\n",
              "    }\n",
              "  }\n",
              "  "
            ],
            "text/plain": [
              "<IPython.core.display.Javascript object>"
            ]
          },
          "metadata": {
            "tags": []
          }
        },
        {
          "output_type": "stream",
          "text": [
            "The Image Below is 3\n"
          ],
          "name": "stdout"
        },
        {
          "output_type": "display_data",
          "data": {
            "image/png": "[encoded data removed]",
            "text/plain": [
              "<Figure size 432x288 with 1 Axes>"
            ]
          },
          "metadata": {
            "tags": [],
            "needs_background": "light"
          }
        },
        {
          "output_type": "display_data",
          "data": {
            "application/javascript": [
              "\n",
              "  for (rule of document.styleSheets[0].cssRules){\n",
              "    if (rule.selectorText=='body') {\n",
              "      rule.style.fontSize = '30px'\n",
              "      break\n",
              "    }\n",
              "  }\n",
              "  "
            ],
            "text/plain": [
              "<IPython.core.display.Javascript object>"
            ]
          },
          "metadata": {
            "tags": []
          }
        },
        {
          "output_type": "stream",
          "text": [
            "The Image Below is 3\n"
          ],
          "name": "stdout"
        },
        {
          "output_type": "display_data",
          "data": {
            "image/png": "[encoded data removed]",
            "text/plain": [
              "<Figure size 432x288 with 1 Axes>"
            ]
          },
          "metadata": {
            "tags": [],
            "needs_background": "light"
          }
        },
        {
          "output_type": "display_data",
          "data": {
            "application/javascript": [
              "\n",
              "  for (rule of document.styleSheets[0].cssRules){\n",
              "    if (rule.selectorText=='body') {\n",
              "      rule.style.fontSize = '30px'\n",
              "      break\n",
              "    }\n",
              "  }\n",
              "  "
            ],
            "text/plain": [
              "<IPython.core.display.Javascript object>"
            ]
          },
          "metadata": {
            "tags": []
          }
        },
        {
          "output_type": "stream",
          "text": [
            "The Image Below is 2\n"
          ],
          "name": "stdout"
        },
        {
          "output_type": "display_data",
          "data": {
            "image/png": "[encoded data removed]",
            "text/plain": [
              "<Figure size 432x288 with 1 Axes>"
            ]
          },
          "metadata": {
            "tags": [],
            "needs_background": "light"
          }
        },
        {
          "output_type": "display_data",
          "data": {
            "application/javascript": [
              "\n",
              "  for (rule of document.styleSheets[0].cssRules){\n",
              "    if (rule.selectorText=='body') {\n",
              "      rule.style.fontSize = '30px'\n",
              "      break\n",
              "    }\n",
              "  }\n",
              "  "
            ],
            "text/plain": [
              "<IPython.core.display.Javascript object>"
            ]
          },
          "metadata": {
            "tags": []
          }
        },
        {
          "output_type": "stream",
          "text": [
            "The Image Below is 6\n"
          ],
          "name": "stdout"
        },
        {
          "output_type": "display_data",
          "data": {
            "image/png": "[encoded data removed]",
            "text/plain": [
              "<Figure size 432x288 with 1 Axes>"
            ]
          },
          "metadata": {
            "tags": [],
            "needs_background": "light"
          }
        },
        {
          "output_type": "display_data",
          "data": {
            "application/javascript": [
              "\n",
              "  for (rule of document.styleSheets[0].cssRules){\n",
              "    if (rule.selectorText=='body') {\n",
              "      rule.style.fontSize = '30px'\n",
              "      break\n",
              "    }\n",
              "  }\n",
              "  "
            ],
            "text/plain": [
              "<IPython.core.display.Javascript object>"
            ]
          },
          "metadata": {
            "tags": []
          }
        },
        {
          "output_type": "stream",
          "text": [
            "The Image Below is 7\n"
          ],
          "name": "stdout"
        },
        {
          "output_type": "display_data",
          "data": {
            "image/png": "[encoded data removed]",
            "text/plain": [
              "<Figure size 432x288 with 1 Axes>"
            ]
          },
          "metadata": {
            "tags": [],
            "needs_background": "light"
          }
        },
        {
          "output_type": "display_data",
          "data": {
            "application/javascript": [
              "\n",
              "  for (rule of document.styleSheets[0].cssRules){\n",
              "    if (rule.selectorText=='body') {\n",
              "      rule.style.fontSize = '30px'\n",
              "      break\n",
              "    }\n",
              "  }\n",
              "  "
            ],
            "text/plain": [
              "<IPython.core.display.Javascript object>"
            ]
          },
          "metadata": {
            "tags": []
          }
        },
        {
          "output_type": "stream",
          "text": [
            "The Image Below is 4\n"
          ],
          "name": "stdout"
        },
        {
          "output_type": "display_data",
          "data": {
            "image/png": "[encoded data removed]",
            "text/plain": [
              "<Figure size 432x288 with 1 Axes>"
            ]
          },
          "metadata": {
            "tags": [],
            "needs_background": "light"
          }
        },
        {
          "output_type": "display_data",
          "data": {
            "application/javascript": [
              "\n",
              "  for (rule of document.styleSheets[0].cssRules){\n",
              "    if (rule.selectorText=='body') {\n",
              "      rule.style.fontSize = '30px'\n",
              "      break\n",
              "    }\n",
              "  }\n",
              "  "
            ],
            "text/plain": [
              "<IPython.core.display.Javascript object>"
            ]
          },
          "metadata": {
            "tags": []
          }
        },
        {
          "output_type": "stream",
          "text": [
            "The Image Below is 0\n"
          ],
          "name": "stdout"
        },
        {
          "output_type": "display_data",
          "data": {
            "image/png": "[encoded data removed]",
            "text/plain": [
              "<Figure size 432x288 with 1 Axes>"
            ]
          },
          "metadata": {
            "tags": [],
            "needs_background": "light"
          }
        },
        {
          "output_type": "display_data",
          "data": {
            "application/javascript": [
              "\n",
              "  for (rule of document.styleSheets[0].cssRules){\n",
              "    if (rule.selectorText=='body') {\n",
              "      rule.style.fontSize = '30px'\n",
              "      break\n",
              "    }\n",
              "  }\n",
              "  "
            ],
            "text/plain": [
              "<IPython.core.display.Javascript object>"
            ]
          },
          "metadata": {
            "tags": []
          }
        },
        {
          "output_type": "stream",
          "text": [
            "The Image Below is 5\n"
          ],
          "name": "stdout"
        },
        {
          "output_type": "display_data",
          "data": {
            "image/png": "[encoded data removed]",
            "text/plain": [
              "<Figure size 432x288 with 1 Axes>"
            ]
          },
          "metadata": {
            "tags": [],
            "needs_background": "light"
          }
        },
        {
          "output_type": "display_data",
          "data": {
            "application/javascript": [
              "\n",
              "  for (rule of document.styleSheets[0].cssRules){\n",
              "    if (rule.selectorText=='body') {\n",
              "      rule.style.fontSize = '30px'\n",
              "      break\n",
              "    }\n",
              "  }\n",
              "  "
            ],
            "text/plain": [
              "<IPython.core.display.Javascript object>"
            ]
          },
          "metadata": {
            "tags": []
          }
        },
        {
          "output_type": "stream",
          "text": [
            "The Image Below is 8\n"
          ],
          "name": "stdout"
        },
        {
          "output_type": "display_data",
          "data": {
            "image/png": "[encoded data removed]",
            "text/plain": [
              "<Figure size 432x288 with 1 Axes>"
            ]
          },
          "metadata": {
            "tags": [],
            "needs_background": "light"
          }
        }
      ]
    },
    {
      "cell_type": "code",
      "metadata": {
        "id": "KxmfTnnVHibU",
        "outputId": "55aa48b1-044a-407f-d36f-cd53493ebaa1",
        "colab": {
          "base_uri": "https://localhost:8080/",
          "height": 1000
        }
      },
      "source": [
        " x = [i+1 for i in range(500)]\n",
        " x"
      ],
      "execution_count": null,
      "outputs": [
        {
          "output_type": "execute_result",
          "data": {
            "text/plain": [
              "[1,\n",
              " 2,\n",
              " 3,\n",
              " 4,\n",
              " 5,\n",
              " 6,\n",
              " 7,\n",
              " 8,\n",
              " 9,\n",
              " 10,\n",
              " 11,\n",
              " 12,\n",
              " 13,\n",
              " 14,\n",
              " 15,\n",
              " 16,\n",
              " 17,\n",
              " 18,\n",
              " 19,\n",
              " 20,\n",
              " 21,\n",
              " 22,\n",
              " 23,\n",
              " 24,\n",
              " 25,\n",
              " 26,\n",
              " 27,\n",
              " 28,\n",
              " 29,\n",
              " 30,\n",
              " 31,\n",
              " 32,\n",
              " 33,\n",
              " 34,\n",
              " 35,\n",
              " 36,\n",
              " 37,\n",
              " 38,\n",
              " 39,\n",
              " 40,\n",
              " 41,\n",
              " 42,\n",
              " 43,\n",
              " 44,\n",
              " 45,\n",
              " 46,\n",
              " 47,\n",
              " 48,\n",
              " 49,\n",
              " 50,\n",
              " 51,\n",
              " 52,\n",
              " 53,\n",
              " 54,\n",
              " 55,\n",
              " 56,\n",
              " 57,\n",
              " 58,\n",
              " 59,\n",
              " 60,\n",
              " 61,\n",
              " 62,\n",
              " 63,\n",
              " 64,\n",
              " 65,\n",
              " 66,\n",
              " 67,\n",
              " 68,\n",
              " 69,\n",
              " 70,\n",
              " 71,\n",
              " 72,\n",
              " 73,\n",
              " 74,\n",
              " 75,\n",
              " 76,\n",
              " 77,\n",
              " 78,\n",
              " 79,\n",
              " 80,\n",
              " 81,\n",
              " 82,\n",
              " 83,\n",
              " 84,\n",
              " 85,\n",
              " 86,\n",
              " 87,\n",
              " 88,\n",
              " 89,\n",
              " 90,\n",
              " 91,\n",
              " 92,\n",
              " 93,\n",
              " 94,\n",
              " 95,\n",
              " 96,\n",
              " 97,\n",
              " 98,\n",
              " 99,\n",
              " 100,\n",
              " 101,\n",
              " 102,\n",
              " 103,\n",
              " 104,\n",
              " 105,\n",
              " 106,\n",
              " 107,\n",
              " 108,\n",
              " 109,\n",
              " 110,\n",
              " 111,\n",
              " 112,\n",
              " 113,\n",
              " 114,\n",
              " 115,\n",
              " 116,\n",
              " 117,\n",
              " 118,\n",
              " 119,\n",
              " 120,\n",
              " 121,\n",
              " 122,\n",
              " 123,\n",
              " 124,\n",
              " 125,\n",
              " 126,\n",
              " 127,\n",
              " 128,\n",
              " 129,\n",
              " 130,\n",
              " 131,\n",
              " 132,\n",
              " 133,\n",
              " 134,\n",
              " 135,\n",
              " 136,\n",
              " 137,\n",
              " 138,\n",
              " 139,\n",
              " 140,\n",
              " 141,\n",
              " 142,\n",
              " 143,\n",
              " 144,\n",
              " 145,\n",
              " 146,\n",
              " 147,\n",
              " 148,\n",
              " 149,\n",
              " 150,\n",
              " 151,\n",
              " 152,\n",
              " 153,\n",
              " 154,\n",
              " 155,\n",
              " 156,\n",
              " 157,\n",
              " 158,\n",
              " 159,\n",
              " 160,\n",
              " 161,\n",
              " 162,\n",
              " 163,\n",
              " 164,\n",
              " 165,\n",
              " 166,\n",
              " 167,\n",
              " 168,\n",
              " 169,\n",
              " 170,\n",
              " 171,\n",
              " 172,\n",
              " 173,\n",
              " 174,\n",
              " 175,\n",
              " 176,\n",
              " 177,\n",
              " 178,\n",
              " 179,\n",
              " 180,\n",
              " 181,\n",
              " 182,\n",
              " 183,\n",
              " 184,\n",
              " 185,\n",
              " 186,\n",
              " 187,\n",
              " 188,\n",
              " 189,\n",
              " 190,\n",
              " 191,\n",
              " 192,\n",
              " 193,\n",
              " 194,\n",
              " 195,\n",
              " 196,\n",
              " 197,\n",
              " 198,\n",
              " 199,\n",
              " 200,\n",
              " 201,\n",
              " 202,\n",
              " 203,\n",
              " 204,\n",
              " 205,\n",
              " 206,\n",
              " 207,\n",
              " 208,\n",
              " 209,\n",
              " 210,\n",
              " 211,\n",
              " 212,\n",
              " 213,\n",
              " 214,\n",
              " 215,\n",
              " 216,\n",
              " 217,\n",
              " 218,\n",
              " 219,\n",
              " 220,\n",
              " 221,\n",
              " 222,\n",
              " 223,\n",
              " 224,\n",
              " 225,\n",
              " 226,\n",
              " 227,\n",
              " 228,\n",
              " 229,\n",
              " 230,\n",
              " 231,\n",
              " 232,\n",
              " 233,\n",
              " 234,\n",
              " 235,\n",
              " 236,\n",
              " 237,\n",
              " 238,\n",
              " 239,\n",
              " 240,\n",
              " 241,\n",
              " 242,\n",
              " 243,\n",
              " 244,\n",
              " 245,\n",
              " 246,\n",
              " 247,\n",
              " 248,\n",
              " 249,\n",
              " 250,\n",
              " 251,\n",
              " 252,\n",
              " 253,\n",
              " 254,\n",
              " 255,\n",
              " 256,\n",
              " 257,\n",
              " 258,\n",
              " 259,\n",
              " 260,\n",
              " 261,\n",
              " 262,\n",
              " 263,\n",
              " 264,\n",
              " 265,\n",
              " 266,\n",
              " 267,\n",
              " 268,\n",
              " 269,\n",
              " 270,\n",
              " 271,\n",
              " 272,\n",
              " 273,\n",
              " 274,\n",
              " 275,\n",
              " 276,\n",
              " 277,\n",
              " 278,\n",
              " 279,\n",
              " 280,\n",
              " 281,\n",
              " 282,\n",
              " 283,\n",
              " 284,\n",
              " 285,\n",
              " 286,\n",
              " 287,\n",
              " 288,\n",
              " 289,\n",
              " 290,\n",
              " 291,\n",
              " 292,\n",
              " 293,\n",
              " 294,\n",
              " 295,\n",
              " 296,\n",
              " 297,\n",
              " 298,\n",
              " 299,\n",
              " 300,\n",
              " 301,\n",
              " 302,\n",
              " 303,\n",
              " 304,\n",
              " 305,\n",
              " 306,\n",
              " 307,\n",
              " 308,\n",
              " 309,\n",
              " 310,\n",
              " 311,\n",
              " 312,\n",
              " 313,\n",
              " 314,\n",
              " 315,\n",
              " 316,\n",
              " 317,\n",
              " 318,\n",
              " 319,\n",
              " 320,\n",
              " 321,\n",
              " 322,\n",
              " 323,\n",
              " 324,\n",
              " 325,\n",
              " 326,\n",
              " 327,\n",
              " 328,\n",
              " 329,\n",
              " 330,\n",
              " 331,\n",
              " 332,\n",
              " 333,\n",
              " 334,\n",
              " 335,\n",
              " 336,\n",
              " 337,\n",
              " 338,\n",
              " 339,\n",
              " 340,\n",
              " 341,\n",
              " 342,\n",
              " 343,\n",
              " 344,\n",
              " 345,\n",
              " 346,\n",
              " 347,\n",
              " 348,\n",
              " 349,\n",
              " 350,\n",
              " 351,\n",
              " 352,\n",
              " 353,\n",
              " 354,\n",
              " 355,\n",
              " 356,\n",
              " 357,\n",
              " 358,\n",
              " 359,\n",
              " 360,\n",
              " 361,\n",
              " 362,\n",
              " 363,\n",
              " 364,\n",
              " 365,\n",
              " 366,\n",
              " 367,\n",
              " 368,\n",
              " 369,\n",
              " 370,\n",
              " 371,\n",
              " 372,\n",
              " 373,\n",
              " 374,\n",
              " 375,\n",
              " 376,\n",
              " 377,\n",
              " 378,\n",
              " 379,\n",
              " 380,\n",
              " 381,\n",
              " 382,\n",
              " 383,\n",
              " 384,\n",
              " 385,\n",
              " 386,\n",
              " 387,\n",
              " 388,\n",
              " 389,\n",
              " 390,\n",
              " 391,\n",
              " 392,\n",
              " 393,\n",
              " 394,\n",
              " 395,\n",
              " 396,\n",
              " 397,\n",
              " 398,\n",
              " 399,\n",
              " 400,\n",
              " 401,\n",
              " 402,\n",
              " 403,\n",
              " 404,\n",
              " 405,\n",
              " 406,\n",
              " 407,\n",
              " 408,\n",
              " 409,\n",
              " 410,\n",
              " 411,\n",
              " 412,\n",
              " 413,\n",
              " 414,\n",
              " 415,\n",
              " 416,\n",
              " 417,\n",
              " 418,\n",
              " 419,\n",
              " 420,\n",
              " 421,\n",
              " 422,\n",
              " 423,\n",
              " 424,\n",
              " 425,\n",
              " 426,\n",
              " 427,\n",
              " 428,\n",
              " 429,\n",
              " 430,\n",
              " 431,\n",
              " 432,\n",
              " 433,\n",
              " 434,\n",
              " 435,\n",
              " 436,\n",
              " 437,\n",
              " 438,\n",
              " 439,\n",
              " 440,\n",
              " 441,\n",
              " 442,\n",
              " 443,\n",
              " 444,\n",
              " 445,\n",
              " 446,\n",
              " 447,\n",
              " 448,\n",
              " 449,\n",
              " 450,\n",
              " 451,\n",
              " 452,\n",
              " 453,\n",
              " 454,\n",
              " 455,\n",
              " 456,\n",
              " 457,\n",
              " 458,\n",
              " 459,\n",
              " 460,\n",
              " 461,\n",
              " 462,\n",
              " 463,\n",
              " 464,\n",
              " 465,\n",
              " 466,\n",
              " 467,\n",
              " 468,\n",
              " 469,\n",
              " 470,\n",
              " 471,\n",
              " 472,\n",
              " 473,\n",
              " 474,\n",
              " 475,\n",
              " 476,\n",
              " 477,\n",
              " 478,\n",
              " 479,\n",
              " 480,\n",
              " 481,\n",
              " 482,\n",
              " 483,\n",
              " 484,\n",
              " 485,\n",
              " 486,\n",
              " 487,\n",
              " 488,\n",
              " 489,\n",
              " 490,\n",
              " 491,\n",
              " 492,\n",
              " 493,\n",
              " 494,\n",
              " 495,\n",
              " 496,\n",
              " 497,\n",
              " 498,\n",
              " 499,\n",
              " 500]"
            ]
          },
          "metadata": {
            "tags": []
          },
          "execution_count": 3
        }
      ]
    }
  ]
}